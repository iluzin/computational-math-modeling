{
 "cells": [
  {
   "cell_type": "markdown",
   "metadata": {},
   "source": [
    "# Задание 1. Сортировка подсчётом, пересечение треугольников"
   ]
  },
  {
   "cell_type": "code",
   "execution_count": 1,
   "metadata": {
    "collapsed": false
   },
   "outputs": [
    {
     "name": "stdout",
     "output_type": "stream",
     "text": [
      "2 1 5 3 1\n",
      "0 0\n",
      "1 2\n",
      "2 1\n",
      "3 1\n",
      "4 0\n",
      "5 1\n"
     ]
    }
   ],
   "source": [
    "a = map(int, raw_input().split())\n",
    "cnt = [0] * (1 + max(a))\n",
    "for item in a:\n",
    "    cnt[item] += 1\n",
    "for i, item in enumerate(cnt):\n",
    "    print i, item"
   ]
  },
  {
   "cell_type": "code",
   "execution_count": null,
   "metadata": {
    "collapsed": true
   },
   "outputs": [],
   "source": []
  }
 ],
 "metadata": {
  "kernelspec": {
   "display_name": "Python 2",
   "language": "python",
   "name": "python2"
  },
  "language_info": {
   "codemirror_mode": {
    "name": "ipython",
    "version": 2
   },
   "file_extension": ".py",
   "mimetype": "text/x-python",
   "name": "python",
   "nbconvert_exporter": "python",
   "pygments_lexer": "ipython2",
   "version": "2.7.13"
  }
 },
 "nbformat": 4,
 "nbformat_minor": 2
}
