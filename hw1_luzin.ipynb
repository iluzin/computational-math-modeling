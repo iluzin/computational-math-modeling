{
 "cells": [
  {
   "cell_type": "markdown",
   "metadata": {
    "deletable": true,
    "editable": true
   },
   "source": [
    "# Задание 1. Counter, пересечение треугольников"
   ]
  },
  {
   "cell_type": "markdown",
   "metadata": {
    "deletable": true,
    "editable": true
   },
   "source": [
    "1) Дан список из k натуральных чисел в диапозоне от 0 до N. Найти число различных чисел в последовательности. Сложность алгоритма должна быть O(k+N)."
   ]
  },
  {
   "cell_type": "code",
   "execution_count": 1,
   "metadata": {
    "collapsed": false,
    "deletable": true,
    "editable": true
   },
   "outputs": [
    {
     "name": "stdout",
     "output_type": "stream",
     "text": [
      "1 2 3 4 5 1 2 1 2 7 3\n"
     ]
    },
    {
     "data": {
      "text/plain": [
       "6"
      ]
     },
     "execution_count": 1,
     "metadata": {},
     "output_type": "execute_result"
    }
   ],
   "source": [
    "a = map(int, raw_input().split())\n",
    "cnt = [0] * (1 + max(a))\n",
    "for item in a:\n",
    "    cnt[item] |= 1\n",
    "sum(cnt)"
   ]
  },
  {
   "cell_type": "markdown",
   "metadata": {
    "collapsed": true,
    "deletable": true,
    "editable": true
   },
   "source": [
    "2) Даны 2 треугольника в пространстве (координаты x, y, z трёх вершин). Проверить, пересекаются ли они."
   ]
  },
  {
   "cell_type": "code",
   "execution_count": 2,
   "metadata": {
    "collapsed": false,
    "deletable": true,
    "editable": true
   },
   "outputs": [],
   "source": [
    "import numpy as np"
   ]
  },
  {
   "cell_type": "code",
   "execution_count": 3,
   "metadata": {
    "collapsed": true,
    "deletable": true,
    "editable": true
   },
   "outputs": [],
   "source": [
    "EPS = 1e-6"
   ]
  },
  {
   "cell_type": "code",
   "execution_count": 4,
   "metadata": {
    "collapsed": true,
    "deletable": true,
    "editable": true
   },
   "outputs": [],
   "source": [
    "def area(a, b, c):\n",
    "    return np.linalg.norm(np.cross(b - a, c - a)) / 2"
   ]
  },
  {
   "cell_type": "code",
   "execution_count": 5,
   "metadata": {
    "collapsed": true,
    "deletable": true,
    "editable": true
   },
   "outputs": [],
   "source": [
    "def intersect(a, b, c, d):\n",
    "    res = all(max(min(i, j), min(k, l)) - min(max(i, j), max(k, l)) < EPS for i, j, k, l in zip(a, b, c, d))\n",
    "    res &= np.dot(np.cross(b - a, c - a), np.cross(b - a, d - a)) < EPS\n",
    "    res &= np.dot(np.cross(d - c, a - c), np.cross(d - c, b - c)) < EPS\n",
    "    return res"
   ]
  },
  {
   "cell_type": "code",
   "execution_count": 6,
   "metadata": {
    "collapsed": true,
    "deletable": true,
    "editable": true
   },
   "outputs": [],
   "source": [
    "def process(a, b, c, p, q):\n",
    "    coef = np.cross(b - a, c - a)\n",
    "    intercept = -coef.dot(a)\n",
    "    res = False\n",
    "    if np.abs(coef.dot(p - q)) < EPS:\n",
    "        if np.abs(coef.dot(p) + intercept) < EPS:\n",
    "            res |= area(a, b, p) + area(b, c, p) + area(c, a, p) - area(a, b, c) < EPS\n",
    "            res |= intersect(a, b, p, q) or intersect(b, c, p, q) or intersect(c, a, p, q)\n",
    "    else:\n",
    "        mu = (coef.dot(p) + intercept) / coef.dot(p - q)\n",
    "        if -EPS < mu and mu < 1 + EPS:\n",
    "            m = p + mu * (q - p)\n",
    "            res |= area(a, b, m) + area(b, c, m) + area(c, a, m) - area(a, b, c) < EPS\n",
    "    return res"
   ]
  },
  {
   "cell_type": "code",
   "execution_count": 7,
   "metadata": {
    "collapsed": false,
    "deletable": true,
    "editable": true
   },
   "outputs": [
    {
     "name": "stdout",
     "output_type": "stream",
     "text": [
      "1 0 0 0 1 0 -1 0 0 0 0 -1 0 1 0 0 0 1\n"
     ]
    },
    {
     "data": {
      "text/plain": [
       "True"
      ]
     },
     "execution_count": 7,
     "metadata": {},
     "output_type": "execute_result"
    }
   ],
   "source": [
    "p1, p2, p3, q1, q2, q3 = np.reshape(map(float, raw_input().split()), (6, 3))\n",
    "process(p1, p2, p3, q1, q2) or process(p1, p2, p3, q2, q3) or process(p1, p2, p3, q3, q1) or process(q1, q2, q3, p1, p2) or process(q1, q2, q3, p2, p3) or process(q1, q2, q3, p3, p1)"
   ]
  }
 ],
 "metadata": {
  "kernelspec": {
   "display_name": "Python 2",
   "language": "python",
   "name": "python2"
  },
  "language_info": {
   "codemirror_mode": {
    "name": "ipython",
    "version": 2
   },
   "file_extension": ".py",
   "mimetype": "text/x-python",
   "name": "python",
   "nbconvert_exporter": "python",
   "pygments_lexer": "ipython2",
   "version": "2.7.14"
  }
 },
 "nbformat": 4,
 "nbformat_minor": 2
}
