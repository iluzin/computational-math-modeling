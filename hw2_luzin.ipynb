{
 "cells": [
  {
   "cell_type": "markdown",
   "metadata": {
    "deletable": true,
    "editable": true
   },
   "source": [
    "# Задание 2. LCS, НВП, быстрое возведение в степень"
   ]
  },
  {
   "cell_type": "code",
   "execution_count": 1,
   "metadata": {
    "collapsed": false,
    "deletable": true,
    "editable": true
   },
   "outputs": [],
   "source": [
    "import numpy as np"
   ]
  },
  {
   "cell_type": "markdown",
   "metadata": {
    "deletable": true,
    "editable": true
   },
   "source": [
    "1) Даны 2 списка чисел. Найти длину наибольшей общей подпоследовательности обоих списков."
   ]
  },
  {
   "cell_type": "code",
   "execution_count": 2,
   "metadata": {
    "collapsed": false,
    "deletable": true,
    "editable": true
   },
   "outputs": [
    {
     "name": "stdout",
     "output_type": "stream",
     "text": [
      "1 2 3\n",
      "2 3 1\n"
     ]
    },
    {
     "data": {
      "text/plain": [
       "2"
      ]
     },
     "execution_count": 2,
     "metadata": {},
     "output_type": "execute_result"
    }
   ],
   "source": [
    "a = map(long, raw_input().split())\n",
    "b = map(long, raw_input().split())\n",
    "lcs = np.zeros((1 + len(a), 1 + len(b)), int)\n",
    "for i in xrange(len(a)):\n",
    "    for j in xrange(len(b)):\n",
    "        if a[i] == b[j]:\n",
    "            lcs[i + 1, j + 1] = lcs[i, j] + 1\n",
    "        else:\n",
    "            lcs[i + 1, j + 1] = max(lcs[i + 1, j], lcs[i, j + 1])\n",
    "lcs.max()"
   ]
  },
  {
   "cell_type": "markdown",
   "metadata": {
    "deletable": true,
    "editable": true
   },
   "source": [
    "2) Дан список целых чисел. Если в нём присутствует что-то нецелое, бросить исключение. Найти длину наибольшей возрастающей подпоследовательности."
   ]
  },
  {
   "cell_type": "code",
   "execution_count": 3,
   "metadata": {
    "collapsed": false,
    "deletable": true,
    "editable": true
   },
   "outputs": [],
   "source": [
    "def bisect_right(a, x, lo=0, hi=None):\n",
    "    if hi is None:\n",
    "        hi = len(a)\n",
    "    while hi - lo > 1:\n",
    "        m = (lo + hi + 1) / 2\n",
    "        if a[m] > x:\n",
    "            hi = m\n",
    "        else:\n",
    "            lo = m\n",
    "    return hi"
   ]
  },
  {
   "cell_type": "code",
   "execution_count": 4,
   "metadata": {
    "collapsed": false,
    "deletable": true,
    "editable": true
   },
   "outputs": [
    {
     "name": "stdout",
     "output_type": "stream",
     "text": [
      "3 29 5 5 28 6\n"
     ]
    },
    {
     "data": {
      "text/plain": [
       "3"
      ]
     },
     "execution_count": 4,
     "metadata": {},
     "output_type": "execute_result"
    }
   ],
   "source": [
    "seq = map(long, raw_input().split())\n",
    "d = [-np.inf]\n",
    "for item in seq:\n",
    "    d += [np.inf]\n",
    "for i, item in enumerate(seq):\n",
    "    j = bisect_right(d, item)\n",
    "    if d[j - 1] < item and item < d[j]:\n",
    "        d[j] = item\n",
    "np.argmax([i if d[i] < np.inf else 0 for i in xrange(len(d))])"
   ]
  },
  {
   "cell_type": "markdown",
   "metadata": {
    "deletable": true,
    "editable": true
   },
   "source": [
    "3) Рекурсивная функция возведения числа в целую неотрицательную степень n. Глубина рекурсии C * log(n)."
   ]
  },
  {
   "cell_type": "code",
   "execution_count": 5,
   "metadata": {
    "collapsed": true,
    "deletable": true,
    "editable": true
   },
   "outputs": [],
   "source": [
    "def binpow(x, n):\n",
    "    if n < 1:\n",
    "        return 1\n",
    "    if n & 1:\n",
    "        return binpow(x, n - 1) * x\n",
    "    else:\n",
    "        y = binpow(x, n / 2)\n",
    "        return y * y"
   ]
  },
  {
   "cell_type": "code",
   "execution_count": 6,
   "metadata": {
    "collapsed": false,
    "deletable": true,
    "editable": true
   },
   "outputs": [
    {
     "data": {
      "text/plain": [
       "128"
      ]
     },
     "execution_count": 6,
     "metadata": {},
     "output_type": "execute_result"
    }
   ],
   "source": [
    "binpow(2, 7)"
   ]
  },
  {
   "cell_type": "code",
   "execution_count": 7,
   "metadata": {
    "collapsed": false,
    "deletable": true,
    "editable": true
   },
   "outputs": [
    {
     "data": {
      "text/plain": [
       "2.7182682371859745"
      ]
     },
     "execution_count": 7,
     "metadata": {},
     "output_type": "execute_result"
    }
   ],
   "source": [
    "binpow(1.00001, 100000)"
   ]
  }
 ],
 "metadata": {
  "kernelspec": {
   "display_name": "Python 2",
   "language": "python",
   "name": "python2"
  },
  "language_info": {
   "codemirror_mode": {
    "name": "ipython",
    "version": 2
   },
   "file_extension": ".py",
   "mimetype": "text/x-python",
   "name": "python",
   "nbconvert_exporter": "python",
   "pygments_lexer": "ipython2",
   "version": "2.7.14"
  }
 },
 "nbformat": 4,
 "nbformat_minor": 2
}
